{
  "nbformat": 4,
  "nbformat_minor": 0,
  "metadata": {
    "colab": {
      "provenance": [],
      "authorship_tag": "ABX9TyMbufqBBmJRNJtGlEeQ/lI6",
      "include_colab_link": true
    },
    "kernelspec": {
      "name": "python3",
      "display_name": "Python 3"
    },
    "language_info": {
      "name": "python"
    }
  },
  "cells": [
    {
      "cell_type": "markdown",
      "metadata": {
        "id": "view-in-github",
        "colab_type": "text"
      },
      "source": [
        "<a href=\"https://colab.research.google.com/github/robertbrown2/FiniteElement/blob/main/makeBMatrix_CST.ipynb\" target=\"_parent\"><img src=\"https://colab.research.google.com/assets/colab-badge.svg\" alt=\"Open In Colab\"/></a>"
      ]
    },
    {
      "cell_type": "code",
      "execution_count": null,
      "metadata": {
        "id": "uhebS70sx-QD"
      },
      "outputs": [],
      "source": [
        "from numpy import *\n",
        "\n",
        "def makeBMatrix_CST(x1, x2, x3, y1, y2, y3):\n",
        "  # psi1 = 1 - xi - eta\n",
        "  # psi2 = xi\n",
        "  # psi3 = eta\n",
        "\n",
        "  dpsi1dxi = -1\n",
        "  dpsi2dxi = 1\n",
        "  dpsi3dxi = 0\n",
        "  dpsi1deta = -1\n",
        "  dpsi2deta = 0\n",
        "  dpsi3deta = 1\n",
        "\n",
        "  # J = [[dx/dxi,  dy/dxi ],\n",
        "  #      [dx/deta, dy/deta]]\n",
        "\n",
        "  # x = x1 * psi1 + x2 * psi2 + x3 * psi3\n",
        "\n",
        "  dxdxi  =  dpsi1dxi * x1 +  dpsi2dxi * x2 +  dpsi3dxi * x3\n",
        "  dxdeta = dpsi1deta * x1 + dpsi2deta * x2 + dpsi3deta * x3\n",
        "  dydxi  =  dpsi1dxi * y1 +  dpsi2dxi * y2 +  dpsi3dxi * y3\n",
        "  dydeta = dpsi1deta * y1 + dpsi2deta * y2 + dpsi3deta * y3\n",
        "\n",
        "  J = array([[ dxdxi,  dydxi],\n",
        "             [dxdeta, dydeta]])\n",
        "\n",
        "  Jinv = linalg.inv(J)\n",
        "  # -----------------------------------\n",
        "  dpsi1dxieta = array([dpsi1dxi,\n",
        "                       dpsi1deta])\n",
        "  dpsi1dxy = Jinv @ dpsi1dxieta\n",
        "  # -----------------------------------\n",
        "  dpsi2dxieta = array([dpsi2dxi,\n",
        "                       dpsi2deta])\n",
        "  dpsi2dxy = Jinv @ dpsi2dxieta\n",
        "  # -----------------------------------\n",
        "  dpsi3dxieta = array([dpsi3dxi,\n",
        "                       dpsi3deta])\n",
        "  dpsi3dxy = Jinv @ dpsi3dxieta\n",
        "  #print()\n",
        "  #print('[dpsi1/dx, dpsi1/dy], [dpsi2/dx, dpsi2/dy], [dpsi3/dx, dpsi3/dy]')\n",
        "  #print(dpsi1dxy, dpsi2dxy, dpsi3dxy)\n",
        "  # -----------------------------------\n",
        "  B = array([[dpsi1dxy[0],     0,       dpsi2dxy[0],     0,       dpsi3dxy[0],      0     ],\n",
        "             [    0,       dpsi1dxy[1],     0,       dpsi2dxy[1],       0,     dpsi3dxy[1]],\n",
        "             [dpsi1dxy[1], dpsi1dxy[0], dpsi2dxy[1], dpsi2dxy[0], dpsi3dxy[1], dpsi3dxy[0]]\n",
        "            ])"
      ]
    }
  ]
}